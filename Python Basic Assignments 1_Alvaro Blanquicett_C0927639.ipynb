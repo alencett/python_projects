{
 "cells": [
  {
   "cell_type": "markdown",
   "id": "a5fe0c3f",
   "metadata": {},
   "source": [
    "# Python Basics Assignment Solutions \n",
    "# Alvaro Blanquicett - C0927639\n",
    "# BAM 3034 - Sentiment Analysis and Text Mining 01"
   ]
  },
  {
   "cell_type": "code",
   "execution_count": null,
   "id": "36b1907d",
   "metadata": {},
   "outputs": [
    {
     "name": "stdout",
     "output_type": "stream",
     "text": [
      "I need 41.30434782608695 liters\n",
      "0.0\n",
      "The cost is: $ 68.15217391304347\n",
      "8.695652173913047\n"
     ]
    }
   ],
   "source": [
    "\n",
    "# Part 1: Numerical Data Types & Arithmetic Operators\n",
    "\n",
    "# First I assign the values to the variables of fuel, trip and efficiency accordingly.\n",
    "fuel_efficiency = 11.5  \n",
    "trip_distance = 475  \n",
    "\n",
    "# A) For the first question, we have to divide the distance by the fuel efficiency to obtain the liters needed.\n",
    "liters_needed = trip_distance / fuel_efficiency\n",
    "print(\"I need\", liters_needed, \"liters\")\n",
    "\n",
    "# B) For the second question, I need to calculate how many full tanks are needed for the trip as follows, theoretically I don't \n",
    "# need a full tank for the trip, but I need to calculate how many full tanks I would need if I had to fill up the tank completely, that's why the answer is 0.\n",
    "tank_capacity = 50\n",
    "full_tanks = liters_needed // tank_capacity\n",
    "print(full_tanks)\n",
    "\n",
    "# C) For the third question, I need to calculate the total cost of the trip using the following formula:\n",
    "fuel_price = 1.65 \n",
    "total_cost = liters_needed * fuel_price\n",
    "print(\"The cost is: $\", total_cost)\n",
    "\n",
    "# D) And finally, I need to calculate the remaining fuel in the tank after the trip.\n",
    "fuel_remaining = tank_capacity - (liters_needed % tank_capacity)\n",
    "print(fuel_remaining)\n"
   ]
  },
  {
   "cell_type": "code",
   "execution_count": null,
   "id": "551b644e",
   "metadata": {},
   "outputs": [
    {
     "name": "stdout",
     "output_type": "stream",
     "text": [
      "You do not qualify for a discount\n",
      "You qualify for a discount\n"
     ]
    }
   ],
   "source": [
    "\n",
    "# Part 2: Comparison & Logical Operators\n",
    "\n",
    "# A) For the first question, I need to check if the person qualifies for a discount depending on the factors like age and weekday as follows.\n",
    "age = 30\n",
    "weekday = True\n",
    "is_family_day = False\n",
    "group_size = 3\n",
    "\n",
    "discount = ((age <= 12 and weekday) or (age >= 65) or (is_family_day and group_size >= 4))\n",
    "discount\n",
    "if discount == True:\n",
    "    print(\"You qualify for a discount\")\n",
    "else: \n",
    "    print(\"You do not qualify for a discount\")\n",
    "\n",
    "# B) For the second question, we need to evaluate the same discount conditions but with these different values.\n",
    "age = 10\n",
    "weekday = True\n",
    "is_family_day = False\n",
    "group_size = 2\n",
    "\n",
    "discount = ((age <= 12 and weekday) or (age >= 65) or (is_family_day and group_size >= 4))\n",
    "discount\n",
    "if discount == True:\n",
    "    print(\"You qualify for a discount\")\n",
    "else: \n",
    "    print(\"You do not qualify for a discount\")\n",
    "\n",
    "\n",
    "# C) The third questions asks to explain how Python evaluates the expression, is evaluated as follows:\n",
    "# 1. `age <= 12` is evaluated first, which is `True`\n",
    "# 2. `weekday` is evaluated next, which is `True`\n",
    "# 3. `age <= 12 and weekday` is evaluated next, which is `True`\n",
    "# 4. `is_family_day` is evaluated next, which is `False`\n",
    "# 5. `group_size >= 4` is evaluated next, which is `False`\n",
    "# 6. `is_family_day and group_size >= 4` is evaluated next, which is `False`\n",
    "# 7. `age >= 65` is evaluated next, which is `False`\n",
    "# 8. `age >= 65 or (is_family_day and group_size >= 4)` is evaluated next, which is `False`\n",
    "# 9. Finally, the entire expression is evaluated as `True or False`, which is `True`\n",
    "# So, the final result is `True`, which means the person qualifies for a discount.\n"
   ]
  },
  {
   "cell_type": "code",
   "execution_count": null,
   "id": "ccd24433",
   "metadata": {},
   "outputs": [
    {
     "name": "stdout",
     "output_type": "stream",
     "text": [
      "N\n",
      "Is_FuN\n",
      "PoWeRfUl\n",
      "PosNDWU\n"
     ]
    }
   ],
   "source": [
    "\n",
    "# Part 3: String Data Types, Indexing & Slicing\n",
    "\n",
    "# The message we are given is:\n",
    "secret_message = \"PyThoN_Is_FuN_AnD_PoWeRfUl!\"\n",
    "\n",
    "# A) The first is to find the character at index 5, which is the sixth character in the string.\n",
    "char_index_5 = secret_message[5]\n",
    "print(char_index_5)\n",
    "\n",
    "# B) For this, we need to extract the \"Is Fun\" part of the string, which is from index 7 to index 13 (not including 13).\n",
    "slice_positive = secret_message[7:13]\n",
    "print(slice_positive)\n",
    "\n",
    "# C) This one we need to use negative indexing to extract the \"PoWeRfUl\" part of the string, which is from index -9 to -1 (not including -1).\n",
    "slice_negative = secret_message[-9:-1]\n",
    "print(slice_negative)\n",
    "\n",
    "# D) And finally, we have to create a new string of every 4th character from the original string.\n",
    "slice_every_4 = secret_message[::4]\n",
    "print(slice_every_4)\n",
    "\n",
    "# E) If I try to access secret_message[50] it will show an error due to the fact that the index is out of the range, the maximum index of the string is 26.\n",
    "\n"
   ]
  },
  {
   "cell_type": "code",
   "execution_count": null,
   "id": "bc7083ed",
   "metadata": {},
   "outputs": [
    {
     "name": "stdout",
     "output_type": "stream",
     "text": [
      "True\n",
      "False\n",
      "True\n"
     ]
    }
   ],
   "source": [
    "\n",
    "# Part 4: Booleans\n",
    "\n",
    "# The variables are as follows:\n",
    "x = 15 \n",
    "y = 25 \n",
    "z = 15 \n",
    "text = \"adventure\"\n",
    "\n",
    "# A) We have to predict if the following expressions are True or False, and then evaluate them. The prediction for this one is True.\n",
    "expr_a = (x == z) and (y > x)\n",
    "print(expr_a)\n",
    "\n",
    "# B) The prediction for this one is False, because the first part is True but the second part is False.\n",
    "expr_b = (x != z) or (y < x) or (len(text) < 5)\n",
    "print(expr_b)\n",
    "\n",
    "# C) The prediction for this one is True, because the first part is False but the second part is True.\n",
    "expr_c = not ((x > y) and (text == \"Adventure\"))\n",
    "print(expr_c)\n"
   ]
  },
  {
   "cell_type": "code",
   "execution_count": null,
   "id": "1f5424a0",
   "metadata": {},
   "outputs": [
    {
     "name": "stdout",
     "output_type": "stream",
     "text": [
      "PRACTICE MAKES PROGRESS\n",
      "Original length is: 22 & Formatted length is: 23\n"
     ]
    }
   ],
   "source": [
    "\n",
    "# Part 5: String Properties & Methods\n",
    "\n",
    "# User tries to set the user name to:\n",
    "username = \"MyUser123\"\n",
    "\n",
    "# A) If you try to run username[0] = 'm', it will show an error because strings are immutable in Python, meaning you cannot change the characters in a string after it has been created.\n",
    "\n",
    "# B) Another user provides a quote as follows:\n",
    "quote = \" practice makes perfect \"\n",
    "# The first thing we need to do is to remove the leading and trailing spaces from the string.\n",
    "quote = quote.strip()\n",
    "# The second thing we need to do is to convert the string to uppercase.\n",
    "quote = quote.upper()\n",
    "# The third thing we need to do is to replace the word \"PERFECT\" with \"PROGRESS\", and store the new variable named formatted_quote.\n",
    "formatted_quote = quote.strip().upper().replace(\"PERFECT\", \"PROGRESS\")\n",
    "print(formatted_quote)\n",
    "\n",
    "# C) The last thing we need to do is to calculate the length of the original and formatted strings.\n",
    "original_length = len(quote)\n",
    "formatted_length = len(formatted_quote)\n",
    "print(\"Original length is:\",original_length, \"& Formatted length is:\", formatted_length)\n"
   ]
  }
 ],
 "metadata": {
  "kernelspec": {
   "display_name": "Python 3",
   "language": "python",
   "name": "python3"
  },
  "language_info": {
   "codemirror_mode": {
    "name": "ipython",
    "version": 3
   },
   "file_extension": ".py",
   "mimetype": "text/x-python",
   "name": "python",
   "nbconvert_exporter": "python",
   "pygments_lexer": "ipython3",
   "version": "3.12.3"
  }
 },
 "nbformat": 4,
 "nbformat_minor": 5
}
